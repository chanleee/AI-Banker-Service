{
 "cells": [
  {
   "cell_type": "code",
   "execution_count": 6,
   "id": "8caef9cf",
   "metadata": {},
   "outputs": [],
   "source": [
    "import os\n",
    "import threading\n",
    "import numpy as np\n",
    "import wavio\n",
    "import sounddevice as sd\n",
    "from playsound import playsound\n",
    "from openai import OpenAI\n",
    "import ipywidgets as widgets\n",
    "from IPython.display import display\n",
    "import pickle\n",
    "from typing import List\n",
    "from dotenv import load_dotenv, find_dotenv\n",
    "from financial_assistant_define import cosine_similarity, get_relevant_context, get_transcript, get_ai_response, play_ai_response_with_tts, process_voice_query\n",
    "\n",
    "_ = load_dotenv(find_dotenv())\n",
    "client = OpenAI(api_key=os.environ['OPENAI_API_KEY'])\n",
    "\n",
    "DB_VECTORS_FILE = \"financial_db.npy\"\n",
    "DB_CHUNKS_FILE = \"financial_db_chunks.pkl\"\n",
    "SPEECH_FILE_PATH = \"./response.wav\""
   ]
  },
  {
   "cell_type": "code",
   "execution_count": 7,
   "id": "b049db37",
   "metadata": {},
   "outputs": [],
   "source": [
    "class EmbeddingModel:\n",
    "    def __init__(self, model_name=\"text-embedding-3-small\"):\n",
    "        self.client = client\n",
    "        self.model_name = model_name\n",
    "    \n",
    "    def get_embedding(self, text: str) -> List[float]:\n",
    "        response = self.client.embeddings.create(input=text, model=self.model_name)\n",
    "        return response.data[0].embedding\n",
    "\n",
    "EMBEDDING_MODEL = EmbeddingModel()"
   ]
  },
  {
   "cell_type": "code",
   "execution_count": 8,
   "id": "e02647e4",
   "metadata": {},
   "outputs": [],
   "source": [
    "class AudioRecorder:\n",
    "    def __init__(self):\n",
    "        self.is_recording = False\n",
    "        self.audio_data = []\n",
    "        self.fs = 44100\n",
    "        self.channels = 1\n",
    "\n",
    "    def start_recording(self):\n",
    "        self.is_recording = True\n",
    "        self.audio_data = []\n",
    "        threading.Thread(target=self._record).start()\n",
    "\n",
    "    def stop_recording(self):\n",
    "        self.is_recording = False\n",
    "\n",
    "    def _record(self):\n",
    "        with sd.InputStream(samplerate=self.fs, channels=self.channels) as stream:\n",
    "            while self.is_recording:\n",
    "                data, _ = stream.read(1024)\n",
    "                self.audio_data.append(data)\n",
    "\n",
    "    def save(self, filename='input.wav'):\n",
    "        if not self.audio_data:\n",
    "            print(\"Input wav is not recorded yet.\")\n",
    "            return None\n",
    "        wav_data = np.concatenate(self.audio_data, axis=0)\n",
    "        wavio.write(filename, wav_data, self.fs, sampwidth=2)\n",
    "        print(f\"Generated voice is saved as '{filename}'\")\n",
    "        return filename\n",
    "\n",
    "recorder = AudioRecorder()"
   ]
  },
  {
   "cell_type": "code",
   "execution_count": null,
   "id": "d3a4e8a0",
   "metadata": {},
   "outputs": [],
   "source": [
    "start_button = widgets.Button(description=\"녹음 시작🎙️\", button_style='success')\n",
    "stop_button = widgets.Button(description=\"녹음 중지⏹️\", button_style='danger')\n",
    "output_area = widgets.Output()"
   ]
  },
  {
   "cell_type": "code",
   "execution_count": 10,
   "id": "87ce7a13",
   "metadata": {},
   "outputs": [],
   "source": [
    "def on_start_clicked(b):\n",
    "    with output_area:\n",
    "        output_area.clear_output()\n",
    "        recorder.start_recording()\n",
    "        print(\"녹음 시작... 질문을 말씀해주세요.\")\n",
    "\n",
    "def on_stop_clicked(b):\n",
    "    with output_area:\n",
    "        recorder.stop_recording()\n",
    "        print(\"녹음 중지. 잠시만 기다려주세요...\")\n",
    "        file_name = recorder.save()\n",
    "        if file_name:\n",
    "            try:\n",
    "                process_voice_query(file_name)\n",
    "            except Exception as e:\n",
    "                print(f\"error occurse: {e}\")\n",
    "            finally:\n",
    "                if os.path.exists(file_name):\n",
    "                    os.remove(file_name)\n",
    "        print(\"\\n다시 질문하시려면 '녹음 시작' 버튼을 눌러주세요.\")"
   ]
  },
  {
   "cell_type": "code",
   "execution_count": 11,
   "id": "fc453bee",
   "metadata": {},
   "outputs": [
    {
     "name": "stdout",
     "output_type": "stream",
     "text": [
      "금융 비서가 준비되었습니다. '녹음 시작' 버튼을 누르고 질문해주세요.\n"
     ]
    },
    {
     "data": {
      "application/vnd.jupyter.widget-view+json": {
       "model_id": "6dad1216483a46f69cc142667b8c0a63",
       "version_major": 2,
       "version_minor": 0
      },
      "text/plain": [
       "Button(button_style='success', description='녹음 시작🎙️', style=ButtonStyle())"
      ]
     },
     "metadata": {},
     "output_type": "display_data"
    },
    {
     "data": {
      "application/vnd.jupyter.widget-view+json": {
       "model_id": "8b40c2522ba0420da648b7a51c74f174",
       "version_major": 2,
       "version_minor": 0
      },
      "text/plain": [
       "Button(button_style='danger', description='녹음 중지⏹️', style=ButtonStyle())"
      ]
     },
     "metadata": {},
     "output_type": "display_data"
    },
    {
     "data": {
      "application/vnd.jupyter.widget-view+json": {
       "model_id": "4b685baf45a24235ae7f734a61aa2d05",
       "version_major": 2,
       "version_minor": 0
      },
      "text/plain": [
       "Output()"
      ]
     },
     "metadata": {},
     "output_type": "display_data"
    }
   ],
   "source": [
    "start_button.on_click(on_start_clicked)\n",
    "stop_button.on_click(on_stop_clicked)\n",
    "\n",
    "print(\"금융 비서가 준비되었습니다. '녹음 시작' 버튼을 누르고 질문해주세요.\")\n",
    "display(start_button, stop_button, output_area)"
   ]
  }
 ],
 "metadata": {
  "kernelspec": {
   "display_name": "Python 3",
   "language": "python",
   "name": "python3"
  },
  "language_info": {
   "codemirror_mode": {
    "name": "ipython",
    "version": 3
   },
   "file_extension": ".py",
   "mimetype": "text/x-python",
   "name": "python",
   "nbconvert_exporter": "python",
   "pygments_lexer": "ipython3",
   "version": "3.10.18"
  }
 },
 "nbformat": 4,
 "nbformat_minor": 5
}
